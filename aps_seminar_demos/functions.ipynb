{
 "cells": [
  {
   "cell_type": "code",
   "execution_count": 10,
   "metadata": {},
   "outputs": [],
   "source": [
    "import numpy as np\n",
    "import tensorflow as tf\n",
    "from numpy.fft import fftshift, ifftshift, fftfreq, fft2, ifft2\n",
    "import skimage, skimage.transform, skimage.data\n",
    "from scipy import special"
   ]
  },
  {
   "cell_type": "code",
   "execution_count": 2,
   "metadata": {},
   "outputs": [],
   "source": [
    "def propTF(beam_profile: np.ndarray, \n",
    "           step_size: float, \n",
    "           wavelength: float, \n",
    "           prop_dist: float):\n",
    "    '''Propogation using the Transfer function method. \n",
    "    '''\n",
    "    support_side_length = np.max(beam_profile.shape)\n",
    "    M, N = np.shape(beam_profile)\n",
    "    #k = 2 * np.pi / wavelength\n",
    "    \n",
    "    fx = fftfreq(M, d=step_size)\n",
    "    fy = fftfreq(N, d=step_size)\n",
    "    \n",
    "    FX, FY = np.meshgrid(fx, fy)\n",
    "    FX = fftshift(FX)\n",
    "    FY = fftshift(FY)\n",
    "    \n",
    "    H = np.exp(-1j * np.pi * wavelength * prop_dist * (FX**2 + FY**2))\n",
    "    H = fftshift(H)\n",
    "    return H"
   ]
  },
  {
   "cell_type": "code",
   "execution_count": 3,
   "metadata": {},
   "outputs": [],
   "source": [
    "def genViewIndices(det_pixels, positions, obj_shape):\n",
    "    npix = det_pixels\n",
    "    views_indices_all = []\n",
    "    for py, px in positions:\n",
    "        R, C = np.ogrid[py:npix + py, px:npix + px]\n",
    "        view_single = (R % obj_shape[0]) * obj_shape[0] + (C % obj_shape[0])\n",
    "        views_indices_all.append(view_single)\n",
    "    return np.array(views_indices_all)"
   ]
  },
  {
   "cell_type": "code",
   "execution_count": 6,
   "metadata": {},
   "outputs": [],
   "source": [
    "def tensor_clip(t: tf.Tensor, \n",
    "                  max_abs: float=1.,\n",
    "                  min_abs: float=0.):\n",
    "    \n",
    "    absval = tf.abs(t)\n",
    "    abs_clipped = tf.clip_by_value(absval, min_abs, max_abs)\n",
    "    multiplier = tf.cast(abs_clipped / (absval), 'complex64')\n",
    "    return t * multiplier"
   ]
  },
  {
   "cell_type": "code",
   "execution_count": 7,
   "metadata": {},
   "outputs": [],
   "source": [
    "def genSpeckle(npix, window_size):\n",
    "    real = np.random.randn(npix, npix)\n",
    "    imag = np.random.randn(npix, npix) \n",
    "    ran = real + 1j *  imag\n",
    "    \n",
    "    \n",
    "    window = np.zeros((npix, npix))\n",
    "    indx1 = npix // 2 - window_size // 2\n",
    "    indx2 = npix // 2 + window_size // 2\n",
    "    window[indx1: indx2, indx1: indx2] = 1\n",
    "    t = window * ran\n",
    "    ft = np.fft.fftshift(np.fft.fft2(t, norm='ortho'))\n",
    "    return np.abs(ft)"
   ]
  },
  {
   "cell_type": "code",
   "execution_count": 9,
   "metadata": {},
   "outputs": [],
   "source": [
    "def getDiffractionIntensitiesAndPositions(obj, probe,prop_kernel, step_size, num_steps,  random_positions = True, poisson=True):\n",
    "    diffs = []\n",
    "    pos = []\n",
    "    for i_row in range(num_steps):\n",
    "        for i_col in range(num_steps):\n",
    "            if random_positions:\n",
    "                step_size_this = np.random.choice(np.arange(step_size - 20, step_size))\n",
    "            else:\n",
    "                step_size_this = step_size\n",
    "            r1 = i_row  * step_size_this\n",
    "            r2 = r1 + probe.shape[0]\n",
    "            c1 = i_col * step_size_this\n",
    "            c2 = c1 + probe.shape[1]\n",
    "            exit_wave = probe * obj[r1:r2, c1:c2]\n",
    "            diff = np.abs(ifftshift(ifft2(prop_kernel * fft2(exit_wave))))**2\n",
    "            diffs.append(diff)\n",
    "            pos.append([r1, c1])\n",
    "    diffs = np.array(diffs)\n",
    "    if poisson:\n",
    "        diffs = np.random.poisson(diffs)\n",
    "    positions = np.array(pos)\n",
    "    return diffs, positions"
   ]
  },
  {
   "cell_type": "code",
   "execution_count": null,
   "metadata": {},
   "outputs": [],
   "source": [
    "def getImageData(obj_npix):\n",
    "    arrdata = lambda x: skimage.img_as_float(skimage.color.rgb2gray(x))[::-1, ::-1]\n",
    "\n",
    "    img_obj = skimage.data.immunohistochemistry()\n",
    "    amp = skimage.transform.resize(arrdata(img_obj[:,:,0]), [obj_npix, obj_npix], \n",
    "                                   mode='wrap', preserve_range=True)\n",
    "    phase = skimage.transform.resize(arrdata(img_obj[:,:,1]), [obj_npix, obj_npix],\n",
    "                                     mode='wrap', preserve_range=True) * np.pi\n",
    "    obj_true = amp * np.exp(1j * phase)\n",
    "    return obj_true"
   ]
  },
  {
   "cell_type": "code",
   "execution_count": 1,
   "metadata": {},
   "outputs": [],
   "source": [
    "def getAiryProbe(wavelength=0.142e-9, # 8.7 keV \n",
    "                 pixel_pitch=30e-9, # 55 micrometers \n",
    "                 npix=64,\n",
    "                 n_photons=1e6,\n",
    "                 beam_diam_pixels=20):\n",
    "    \"\"\"Calculates the beam profile given the final beam diameter. \n",
    "    \n",
    "    Parameters:\n",
    "    \n",
    "    wavelength : \n",
    "    self-explanatory\n",
    "    \n",
    "    pixel_pitch : \n",
    "    object/probe pixel pitch. Usually calculated using the Nyquist theorem using the object-detector\n",
    "    distance and the detector pixel pitch.\n",
    "    \n",
    "    n_pix:\n",
    "    number of pixels along each axis in the probe view\n",
    "    \n",
    "    n_photons:\n",
    "    self-explanatory\n",
    "    \n",
    "    beam_diam_pixels:\n",
    "    the diameter (in pixels) of the first central lobe of the probe beam at the object (sample) plane.\n",
    "\n",
    "    Assumption:\n",
    "    - propagation distance (from aperture to sample) and initial aperture width are calculated \n",
    "    assuming a Fresnel number of 0.1\n",
    "    \"\"\"\n",
    "    beam_width_dist = beam_diam_pixels * pixel_pitch\n",
    "    radius = beam_width_dist / 2\n",
    "    # Initial Aperture width\n",
    "    w = 0.1 * 2 * np.pi * radius / (special.jn_zeros(1, 1))\n",
    "    \n",
    "    # Propagation dist from aperture to sample\n",
    "    z = 0.1 * (2 * np.pi * radius)**2 / (special.jn_zeros(1, 1)**2 * wavelength)\n",
    "    \n",
    "    beam_center = npix // 2\n",
    "    xvals = np.linspace( -beam_center * pixel_pitch, beam_center * pixel_pitch, npix)\n",
    "    xx, yy = np.meshgrid(xvals, xvals)\n",
    "    \n",
    "\n",
    "    k = 2 * np.pi / wavelength\n",
    "    lz = wavelength * z\n",
    "    S = xx**2 + yy**2\n",
    "\n",
    "    jinc_input = np.sqrt(S) * w / lz\n",
    "    mask = (jinc_input != 0)\n",
    "    jinc_term = np.pi * np.ones_like(jinc_input)\n",
    "    jinc_term[mask] = special.j1(jinc_input[mask] * 2 * np.pi) / jinc_input[mask]\n",
    "\n",
    "    # wavefield \n",
    "    term1 = np.exp(1j * k * z) / (1j * lz)\n",
    "    term2 = np.exp(1j * k * S / (2 * z))\n",
    "    term3 = w**2 * jinc_term\n",
    "    field_vals = (term1 * term2 * term3).astype('complex64')\n",
    "\n",
    "    scaling_factor = np.sqrt(n_photons / (np.abs(field_vals)**2).sum())\n",
    "    field_vals = scaling_factor * field_vals\n",
    "    return field_vals"
   ]
  },
  {
   "cell_type": "code",
   "execution_count": 2,
   "metadata": {},
   "outputs": [],
   "source": [
    "def genViewIndices(det_pixels, positions, obj_shape):\n",
    "    npix = det_pixels\n",
    "    views_indices_all = []\n",
    "    for py, px in positions:\n",
    "        R, C = np.ogrid[py:npix + py, px:npix + px]\n",
    "        view_single = (R % obj_shape[0]) * obj_shape[0] + (C % obj_shape[0])\n",
    "        views_indices_all.append(view_single)\n",
    "    return np.array(views_indices_all)"
   ]
  },
  {
   "cell_type": "code",
   "execution_count": null,
   "metadata": {},
   "outputs": [],
   "source": [
    "def batch_fftshift2d(tensor: tf.Tensor):\n",
    "    # Shifts high frequency elements into the center of the filter\n",
    "    indexes = len(tensor.get_shape()) - 1\n",
    "    top, bottom = tf.split(tensor, 2, axis=indexes)\n",
    "    tensor = tf.concat([bottom, top], indexes )\n",
    "    left, right = tf.split(tensor, 2, axis=indexes - 1)\n",
    "    tensor = tf.concat([right, left], indexes - 1 )\n",
    "    return tensor"
   ]
  }
 ],
 "metadata": {
  "kernelspec": {
   "display_name": "Python 3",
   "language": "python",
   "name": "python3"
  },
  "language_info": {
   "codemirror_mode": {
    "name": "ipython",
    "version": 3
   },
   "file_extension": ".py",
   "mimetype": "text/x-python",
   "name": "python",
   "nbconvert_exporter": "python",
   "pygments_lexer": "ipython3",
   "version": "3.6.4"
  },
  "varInspector": {
   "cols": {
    "lenName": 16,
    "lenType": 16,
    "lenVar": 40
   },
   "kernels_config": {
    "python": {
     "delete_cmd_postfix": "",
     "delete_cmd_prefix": "del ",
     "library": "var_list.py",
     "varRefreshCmd": "print(var_dic_list())"
    },
    "r": {
     "delete_cmd_postfix": ") ",
     "delete_cmd_prefix": "rm(",
     "library": "var_list.r",
     "varRefreshCmd": "cat(var_dic_list()) "
    }
   },
   "types_to_exclude": [
    "module",
    "function",
    "builtin_function_or_method",
    "instance",
    "_Feature"
   ],
   "window_display": false
  }
 },
 "nbformat": 4,
 "nbformat_minor": 2
}
